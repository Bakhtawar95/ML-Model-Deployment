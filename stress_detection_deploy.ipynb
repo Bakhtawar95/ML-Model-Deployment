{
 "cells": [
  {
   "cell_type": "code",
   "execution_count": 1,
   "metadata": {},
   "outputs": [],
   "source": [
    "###Imports\n",
    "import uuid\n",
    "import pandas as pd\n",
    "import mlflow"
   ]
  },
  {
   "cell_type": "code",
   "execution_count": 2,
   "metadata": {},
   "outputs": [],
   "source": [
    "def generate_uuids(n):\n",
    "    ids=[]\n",
    "    for i in range(n):\n",
    "        ids.append(str(uuid.uuid4()))       \n",
    "    return ids"
   ]
  },
  {
   "attachments": {},
   "cell_type": "markdown",
   "metadata": {},
   "source": [
    "## Loading the model from MLflow Registry and Reading the test data"
   ]
  },
  {
   "cell_type": "code",
   "execution_count": null,
   "metadata": {},
   "outputs": [],
   "source": [
    "def load_model(model_name,stage): \n",
    "    MLFLOW_TRACKING_URI = \"sqlite:///mlflow.db\"\n",
    "    mlflow.set_tracking_uri(MLFLOW_TRACKING_URI)\n",
    "    model = mlflow.pyfunc.load_model(f\"models:/{model_name}/{stage}\")\n",
    "    return model\n",
    "def read_dataFrame(input_file):\n",
    "    df=pd.read_csv(input_file)\n",
    "    df.columns=['snoring_rate', 'respiration_rate', 'body_temperature', 'limb_movement', 'blood_oxygen', \\\n",
    "             'eye_movement', 'sleeping_hours', 'heart_rate', 'stress_level']\n",
    "    \n",
    "    df['id']=generate_uuids(len(df))\n",
    "    return df"
   ]
  },
  {
   "attachments": {},
   "cell_type": "markdown",
   "metadata": {},
   "source": [
    "## Predicting results and saving to .csv file"
   ]
  },
  {
   "cell_type": "code",
   "execution_count": 4,
   "metadata": {},
   "outputs": [],
   "source": [
    "def apply_model(input_file,output_file,model_name,stage):\n",
    "    print(f'Reading data from {input_file}...')\n",
    "    df=read_dataFrame(input_file)\n",
    "    X_val = df.drop(['snoring_rate','limb_movement','eye_movement','stress_level','id'],axis=1)\n",
    "    \n",
    "    print(f'Loading the MLflow model which is in {stage}...')   \n",
    "    model=load_model(model_name,stage)\n",
    "    \n",
    "    print(f'Predicting the results...')   \n",
    "    y_pred=model.predict(X_val)\n",
    "    \n",
    "    print(f'Saving results to {output_file}...') \n",
    "    df_result=pd.DataFrame()\n",
    "    df_result['id']=df['id']\n",
    "    df_result['respiration_rate']=df['respiration_rate']\n",
    "    df_result['body_temperature']=df['body_temperature']\n",
    "    df_result['blood_oxygen']=df['blood_oxygen']\n",
    "    df_result['heart_rate']=df['heart_rate']\n",
    "    df_result['sleeping_hours']=df['sleeping_hours']\n",
    "    df_result['predicted_stress_Level']=y_pred\n",
    "    df_result.to_csv(output_file)\n"
   ]
  },
  {
   "cell_type": "code",
   "execution_count": 5,
   "metadata": {},
   "outputs": [],
   "source": [
    "def run():\n",
    "    input_file='./data/SaYoPillow.csv'\n",
    "    output_file='./output/stress_output.csv'\n",
    "    model_name=\"stress-levels-prediction\"\n",
    "    stage=\"Production\"\n",
    "    apply_model(input_file,output_file,model_name,stage)\n",
    "    print(f'Finished') "
   ]
  },
  {
   "cell_type": "code",
   "execution_count": null,
   "metadata": {},
   "outputs": [],
   "source": []
  }
 ],
 "metadata": {
  "kernelspec": {
   "display_name": "Python 3",
   "language": "python",
   "name": "python3"
  },
  "language_info": {
   "codemirror_mode": {
    "name": "ipython",
    "version": 3
   },
   "file_extension": ".py",
   "mimetype": "text/x-python",
   "name": "python",
   "nbconvert_exporter": "python",
   "pygments_lexer": "ipython3",
   "version": "3.10.5"
  },
  "orig_nbformat": 4,
  "vscode": {
   "interpreter": {
    "hash": "9f977e02eb77989310ccd6b3fb73b3c973ab642172de995c8f9079f4c580cba0"
   }
  }
 },
 "nbformat": 4,
 "nbformat_minor": 2
}
