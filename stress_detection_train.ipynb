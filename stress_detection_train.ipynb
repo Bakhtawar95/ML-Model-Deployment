{
 "cells": [
  {
   "cell_type": "code",
   "execution_count": 2,
   "id": "e0a21df5",
   "metadata": {},
   "outputs": [],
   "source": [
    "###Imports\n",
    "\n",
    "import pandas as pd\n",
    "import uuid\n",
    "import pickle\n",
    "from sklearn.metrics import mean_squared_error,accuracy_score\n",
    "from sklearn.tree import DecisionTreeClassifier\n",
    "from sklearn.ensemble import RandomForestClassifier\n",
    "from sklearn.naive_bayes import GaussianNB\n",
    "from sklearn.ensemble import GradientBoostingClassifier\n",
    "from sklearn.model_selection import train_test_split\n",
    "from datetime import datetime\n",
    "import time\n",
    "import mlflow\n",
    "from mlflow.tracking import MlflowClient\n",
    "from mlflow.entities import ViewType\n",
    "\n",
    "\n"
   ]
  },
  {
   "cell_type": "markdown",
   "id": "8ef0b8e1",
   "metadata": {},
   "source": [
    "# MLflow Experiment Setup"
   ]
  },
  {
   "cell_type": "code",
   "execution_count": 5,
   "id": "d48ad714",
   "metadata": {},
   "outputs": [],
   "source": [
    "###Globals\n",
    "\n",
    "MLFLOW_TRACKING_URI=\"sqlite:///mlflow.db\"\n",
    "mlflow.set_tracking_uri(MLFLOW_TRACKING_URI)\n",
    "mlflow.set_experiment(\"stress-levels\")\n",
    "model_name=\"stress-level-model\"\n",
    "client = MlflowClient(tracking_uri=MLFLOW_TRACKING_URI)"
   ]
  },
  {
   "cell_type": "markdown",
   "id": "a807b885",
   "metadata": {},
   "source": [
    "# Reading Input data"
   ]
  },
  {
   "cell_type": "code",
   "execution_count": 6,
   "id": "4b6064f7",
   "metadata": {},
   "outputs": [],
   "source": [
    "\n",
    "def generate_uuids(n):\n",
    "    ids=[]\n",
    "    for i in range(n):\n",
    "        ids.append(str(uuid.uuid4()))       \n",
    "    return ids\n",
    "\n",
    "def read_dataFrame(input_file):\n",
    "    df=pd.read_csv(input_file)\n",
    "    df.columns=['snoring_rate', 'respiration_rate', 'body_temperature', 'limb_movement', 'blood_oxygen', \\\n",
    "             'eye_movement', 'sleeping_hours', 'heart_rate', 'stress_level']\n",
    "    \n",
    "    df['id']=generate_uuids(len(df))\n",
    "    X = df.drop(['snoring_rate','limb_movement','eye_movement','stress_level','id'],axis=1)\n",
    "    y = df.stress_level\n",
    "    X_train, X_test, y_train, y_test = train_test_split(X, y,train_size=0.7, \n",
    "                                                    random_state=0)\n",
    "    return X_train,y_train,X_test,y_test\n",
    "\n"
   ]
  },
  {
   "cell_type": "markdown",
   "id": "e8440cc6",
   "metadata": {},
   "source": [
    "# Model Training and logging to MLflow"
   ]
  },
  {
   "cell_type": "code",
   "execution_count": 7,
   "id": "24c9b7f6",
   "metadata": {},
   "outputs": [],
   "source": [
    "\n",
    "def training_logging(X_train,y_train,X_test,y_test):\n",
    "    classifiers = [('Random Forest', RandomForestClassifier()), \n",
    "                   ('Decision Tree Classifier', DecisionTreeClassifier()), \n",
    "                   ('Gradient Boost Classifier',GradientBoostingClassifier(n_estimators=20, random_state = 0)),\n",
    "                   ('Naive Bayes', GaussianNB())]\n",
    "\n",
    "\n",
    "    for clf_name, clf in classifiers:\n",
    "        mlflow.sklearn.autolog()                \n",
    "        with mlflow.start_run():                \n",
    "            mlflow.set_tag(\"model\",f\"{clf_name}\")\n",
    "            model=clf.fit(X_train, y_train)\n",
    "            with open(f'models/{clf_name}.bin','wb') as f_out:\n",
    "                pickle.dump((model),f_out)\n",
    "            y_pred = clf.predict(X_test)\n",
    "            rmse = mean_squared_error(y_test, y_pred,squared=\"False\")  \n",
    "            print(\"RMSE of \", clf_name, \" is: %.4f\" % rmse)\n",
    "            mlflow.log_metric(\"rmse\",rmse)\n",
    "            mlflow.log_artifact(local_path=f\"models/{clf_name}.bin\",artifact_path=\"models_pickle\")\n",
    "            accuracy = accuracy_score(y_test, y_pred)\n",
    "            print(\"Test Accuracy of \", clf_name, \" is \", accuracy)"
   ]
  },
  {
   "cell_type": "markdown",
   "id": "1335586e",
   "metadata": {},
   "source": [
    "# MLflow Client to select the best model"
   ]
  },
  {
   "cell_type": "code",
   "execution_count": 16,
   "id": "305b4b39",
   "metadata": {},
   "outputs": [],
   "source": [
    "def select_model():\n",
    "    best_run = client.search_runs(\n",
    "        experiment_ids='1',\n",
    "        filter_string=\"metrics.rmse<0.01\",\n",
    "        run_view_type=ViewType.ACTIVE_ONLY,\n",
    "        max_results=1,\n",
    "        order_by=[\"metrics.rmse ASC\"]\n",
    "    )\n",
    "\n",
    "    for run in best_run:\n",
    "        best_run_id=run.info.run_id\n",
    "        best_run_rmse=run.data.metrics['rmse']\n",
    "        print(f\"run id of best run: {best_run_id}, rmse: {best_run_rmse}\")\n",
    "        return best_run_id"
   ]
  },
  {
   "cell_type": "markdown",
   "id": "7baa1cfc",
   "metadata": {},
   "source": [
    "# Registering the best model"
   ]
  },
  {
   "cell_type": "code",
   "execution_count": 9,
   "id": "cc99541d",
   "metadata": {},
   "outputs": [],
   "source": [
    "def register_model(best_run_id):\n",
    "    model_uri=f\"runs:/{best_run_id}/model\"\n",
    "    mlflow.register_model(model_uri=model_uri,name=model_name)\n",
    "    #print(\"Model regstered successfully\")"
   ]
  },
  {
   "cell_type": "markdown",
   "id": "18fc4ec1",
   "metadata": {},
   "source": [
    "# Promoting latest version of best model to Production"
   ]
  },
  {
   "cell_type": "code",
   "execution_count": 10,
   "id": "b17cbcb2",
   "metadata": {},
   "outputs": [],
   "source": [
    "def promote_model():\n",
    "    global best_model_latest_version\n",
    "    latest_ver=client.get_latest_versions(name=model_name)\n",
    "    new_stage=\"Production\"\n",
    "    date=datetime.today().date()\n",
    "    for version in latest_ver:\n",
    "        best_model_latest_version=version.version\n",
    "        current_stage=version.current_stage\n",
    "    \n",
    "    client.transition_model_version_stage(\n",
    "        name=model_name,\n",
    "        version=best_model_latest_version,\n",
    "        stage=new_stage,\n",
    "        archive_existing_versions=False\n",
    "    )\n",
    "    client.update_model_version(\n",
    "        name=model_name,\n",
    "        version=best_model_latest_version,\n",
    "        description=f\"The model version {best_model_latest_version} was transitioned to {new_stage} on {date}\"\n",
    "    )\n",
    "    print(f\"The latest version of model is {best_model_latest_version}.It is promoted successfully to {new_stage}\")"
   ]
  },
  {
   "cell_type": "code",
   "execution_count": 18,
   "id": "fa0a5522",
   "metadata": {},
   "outputs": [],
   "source": [
    "def train():\n",
    "    input_file='./data/SaYoPillow.csv'\n",
    "    X_train,y_train,X_test,y_test=read_dataFrame(input_file)\n",
    "    training_logging(X_train,y_train,X_test,y_test)\n",
    "    time.sleep(3)\n",
    "    best_run_id=select_model()\n",
    "    time.sleep(3)\n",
    "    register_model(best_run_id)\n",
    "    time.sleep(3)\n",
    "    promote_model()\n",
    "    print(\"Finished\")\n",
    "    "
   ]
  },
  {
   "cell_type": "code",
   "execution_count": 19,
   "id": "2888dea8",
   "metadata": {},
   "outputs": [
    {
     "name": "stderr",
     "output_type": "stream",
     "text": [
      "2023/01/31 16:11:50 WARNING mlflow.utils.autologging_utils: You are using an unsupported version of sklearn. If you encounter errors during autologging, try upgrading / downgrading sklearn to a supported version, or try upgrading MLflow.\n"
     ]
    },
    {
     "name": "stdout",
     "output_type": "stream",
     "text": [
      "RMSE of  Random Forest  is: 0.0053\n",
      "Test Accuracy of  Random Forest  is  0.9947089947089947\n"
     ]
    },
    {
     "name": "stderr",
     "output_type": "stream",
     "text": [
      "2023/01/31 16:11:57 WARNING mlflow.utils.autologging_utils: You are using an unsupported version of sklearn. If you encounter errors during autologging, try upgrading / downgrading sklearn to a supported version, or try upgrading MLflow.\n"
     ]
    },
    {
     "name": "stdout",
     "output_type": "stream",
     "text": [
      "RMSE of  Decision Tree Classifier  is: 0.0106\n",
      "Test Accuracy of  Decision Tree Classifier  is  0.9894179894179894\n"
     ]
    },
    {
     "name": "stderr",
     "output_type": "stream",
     "text": [
      "2023/01/31 16:12:02 WARNING mlflow.utils.autologging_utils: You are using an unsupported version of sklearn. If you encounter errors during autologging, try upgrading / downgrading sklearn to a supported version, or try upgrading MLflow.\n"
     ]
    },
    {
     "name": "stdout",
     "output_type": "stream",
     "text": [
      "RMSE of  Gradient Boost Classifier  is: 0.0106\n"
     ]
    },
    {
     "name": "stderr",
     "output_type": "stream",
     "text": [
      "2023/01/31 16:12:08 WARNING mlflow.utils.autologging_utils: You are using an unsupported version of sklearn. If you encounter errors during autologging, try upgrading / downgrading sklearn to a supported version, or try upgrading MLflow.\n"
     ]
    },
    {
     "name": "stdout",
     "output_type": "stream",
     "text": [
      "Test Accuracy of  Gradient Boost Classifier  is  0.9894179894179894\n",
      "RMSE of  Naive Bayes  is: 0.0000\n",
      "Test Accuracy of  Naive Bayes  is  1.0\n",
      "run id of best run: 3f36171e20444fa8ab30bbb40a6d3bed, rmse: 0.0\n"
     ]
    },
    {
     "name": "stderr",
     "output_type": "stream",
     "text": [
      "Registered model 'stress-level-prediction' already exists. Creating a new version of this model...\n",
      "2023/01/31 16:12:20 INFO mlflow.tracking._model_registry.client: Waiting up to 300 seconds for model version to finish creation.                     Model name: stress-level-prediction, version 2\n",
      "Created version '2' of model 'stress-level-prediction'.\n"
     ]
    },
    {
     "name": "stdout",
     "output_type": "stream",
     "text": [
      "The latest version of model is 2.It is promoted successfully to Production\n",
      "Finished\n"
     ]
    }
   ],
   "source": [
    "train()"
   ]
  },
  {
   "cell_type": "raw",
   "id": "85850db2",
   "metadata": {},
   "source": []
  }
 ],
 "metadata": {
  "kernelspec": {
   "display_name": "Python 3",
   "language": "python",
   "name": "python3"
  },
  "language_info": {
   "codemirror_mode": {
    "name": "ipython",
    "version": 3
   },
   "file_extension": ".py",
   "mimetype": "text/x-python",
   "name": "python",
   "nbconvert_exporter": "python",
   "pygments_lexer": "ipython3",
   "version": "3.10.5 (tags/v3.10.5:f377153, Jun  6 2022, 16:14:13) [MSC v.1929 64 bit (AMD64)]"
  },
  "vscode": {
   "interpreter": {
    "hash": "9f977e02eb77989310ccd6b3fb73b3c973ab642172de995c8f9079f4c580cba0"
   }
  }
 },
 "nbformat": 4,
 "nbformat_minor": 5
}
